{
 "cells": [
  {
   "cell_type": "code",
   "execution_count": 3,
   "id": "b23cba04",
   "metadata": {},
   "outputs": [],
   "source": [
    "from librosa import load\n",
    "import sys\n",
    "import numpy as np"
   ]
  },
  {
   "cell_type": "code",
   "execution_count": 4,
   "id": "771f88d3",
   "metadata": {},
   "outputs": [],
   "source": [
    "TwentyFour, sample_rate = load(\"../TwentyFour.flac\")\n",
    "TwentyFour = TwentyFour[0:220500]"
   ]
  },
  {
   "cell_type": "code",
   "execution_count": 5,
   "id": "94f48ae8",
   "metadata": {},
   "outputs": [],
   "source": [
    "def moving_average(x, w):\n",
    "    return np.convolve(x, np.ones(w), 'valid') / w"
   ]
  },
  {
   "cell_type": "code",
   "execution_count": 6,
   "id": "ceed978f",
   "metadata": {},
   "outputs": [],
   "source": [
    "TwentyFour_lowpass = moving_average(TwentyFour, 4)"
   ]
  },
  {
   "cell_type": "code",
   "execution_count": null,
   "id": "92a0e59d",
   "metadata": {},
   "outputs": [],
   "source": [
    "TwentyFour"
   ]
  }
 ],
 "metadata": {
  "kernelspec": {
   "display_name": "venv",
   "language": "python",
   "name": "venv"
  },
  "language_info": {
   "codemirror_mode": {
    "name": "ipython",
    "version": 3
   },
   "file_extension": ".py",
   "mimetype": "text/x-python",
   "name": "python",
   "nbconvert_exporter": "python",
   "pygments_lexer": "ipython3",
   "version": "3.10.7"
  }
 },
 "nbformat": 4,
 "nbformat_minor": 5
}
