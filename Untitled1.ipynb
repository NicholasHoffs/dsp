{
 "cells": [
  {
   "cell_type": "code",
   "execution_count": null,
   "id": "f42e54a6",
   "metadata": {},
   "outputs": [],
   "source": [
    "import numpy as np\n",
    "from scipy.io.wavefile import read, write"
   ]
  },
  {
   "cell_type": "code",
   "execution_count": null,
   "id": "88b2d598",
   "metadata": {},
   "outputs": [],
   "source": [
    "sample_rate = 44100\n",
    "freq = 440\n",
    "\n",
    "duration = 10\n",
    "t = np.linspace(0,10, sample_rate*duration)\n",
    "x = np.sin(2*np.pi*freq*t)"
   ]
  },
  {
   "cell_type": "code",
   "execution_count": null,
   "id": "575ee9b4",
   "metadata": {},
   "outputs": [],
   "source": []
  }
 ],
 "metadata": {
  "kernelspec": {
   "display_name": "venv",
   "language": "python",
   "name": "venv"
  },
  "language_info": {
   "codemirror_mode": {
    "name": "ipython",
    "version": 3
   },
   "file_extension": ".py",
   "mimetype": "text/x-python",
   "name": "python",
   "nbconvert_exporter": "python",
   "pygments_lexer": "ipython3",
   "version": "3.10.7"
  }
 },
 "nbformat": 4,
 "nbformat_minor": 5
}
